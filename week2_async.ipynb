{
 "cells": [
  {
   "cell_type": "markdown",
   "id": "91b4aa77",
   "metadata": {},
   "source": [
    "Hello world!\n",
    "First we import stuff..."
   ]
  },
  {
   "cell_type": "code",
   "execution_count": 2,
   "id": "4136f9be",
   "metadata": {},
   "outputs": [],
   "source": [
    "import numpy as np\n",
    "import pandas as pd"
   ]
  },
  {
   "cell_type": "markdown",
   "id": "dca3c42e",
   "metadata": {},
   "source": [
    "Next we make some lists and dictionaries..."
   ]
  },
  {
   "cell_type": "code",
   "execution_count": 3,
   "id": "e84cf463",
   "metadata": {},
   "outputs": [],
   "source": [
    "list1=['Billy','Bob','BillyBob']\n",
    "list2=['Foo','Bar','Baz']\n",
    "list3=[True,False]\n",
    "\n",
    "customers_dict={1:{\"name\":\"Tom Smith\",\"age\":22,\"job\":\"baker\"},2:{\"name\":\"Peter Clark\",\"age\":67},3:{\"name\":\"John Brown\",\"age\":100}}"
   ]
  },
  {
   "cell_type": "markdown",
   "id": "7d99bf92",
   "metadata": {},
   "source": [
    "Now we can try to make some dataframes, I'm expecting the each one to fail somehow as we missed some fields, but I'm not sure what will happen (maybe it will leave a null field, or return an error message?)."
   ]
  },
  {
   "cell_type": "code",
   "execution_count": 6,
   "id": "353d9662",
   "metadata": {},
   "outputs": [
    {
     "data": {
      "text/html": [
       "<div>\n",
       "<style scoped>\n",
       "    .dataframe tbody tr th:only-of-type {\n",
       "        vertical-align: middle;\n",
       "    }\n",
       "\n",
       "    .dataframe tbody tr th {\n",
       "        vertical-align: top;\n",
       "    }\n",
       "\n",
       "    .dataframe thead th {\n",
       "        text-align: right;\n",
       "    }\n",
       "</style>\n",
       "<table border=\"1\" class=\"dataframe\">\n",
       "  <thead>\n",
       "    <tr style=\"text-align: right;\">\n",
       "      <th></th>\n",
       "      <th>0</th>\n",
       "      <th>1</th>\n",
       "      <th>2</th>\n",
       "    </tr>\n",
       "  </thead>\n",
       "  <tbody>\n",
       "    <tr>\n",
       "      <th>0</th>\n",
       "      <td>Billy</td>\n",
       "      <td>Bob</td>\n",
       "      <td>BillyBob</td>\n",
       "    </tr>\n",
       "    <tr>\n",
       "      <th>1</th>\n",
       "      <td>Foo</td>\n",
       "      <td>Bar</td>\n",
       "      <td>Baz</td>\n",
       "    </tr>\n",
       "    <tr>\n",
       "      <th>2</th>\n",
       "      <td>True</td>\n",
       "      <td>False</td>\n",
       "      <td>None</td>\n",
       "    </tr>\n",
       "  </tbody>\n",
       "</table>\n",
       "</div>"
      ],
      "text/plain": [
       "       0      1         2\n",
       "0  Billy    Bob  BillyBob\n",
       "1    Foo    Bar       Baz\n",
       "2   True  False      None"
      ]
     },
     "execution_count": 6,
     "metadata": {},
     "output_type": "execute_result"
    }
   ],
   "source": [
    "list_df = pd.DataFrame([list1,list2,list3])\n",
    "customers_df = pd.DataFrame(customers_dict)\n",
    "\n",
    "list_df"
   ]
  },
  {
   "cell_type": "code",
   "execution_count": 5,
   "id": "cd9341ba",
   "metadata": {},
   "outputs": [
    {
     "data": {
      "text/html": [
       "<div>\n",
       "<style scoped>\n",
       "    .dataframe tbody tr th:only-of-type {\n",
       "        vertical-align: middle;\n",
       "    }\n",
       "\n",
       "    .dataframe tbody tr th {\n",
       "        vertical-align: top;\n",
       "    }\n",
       "\n",
       "    .dataframe thead th {\n",
       "        text-align: right;\n",
       "    }\n",
       "</style>\n",
       "<table border=\"1\" class=\"dataframe\">\n",
       "  <thead>\n",
       "    <tr style=\"text-align: right;\">\n",
       "      <th></th>\n",
       "      <th>1</th>\n",
       "      <th>2</th>\n",
       "      <th>3</th>\n",
       "    </tr>\n",
       "  </thead>\n",
       "  <tbody>\n",
       "    <tr>\n",
       "      <th>name</th>\n",
       "      <td>Tom Smith</td>\n",
       "      <td>Peter Clark</td>\n",
       "      <td>John Brown</td>\n",
       "    </tr>\n",
       "    <tr>\n",
       "      <th>age</th>\n",
       "      <td>22</td>\n",
       "      <td>67</td>\n",
       "      <td>100</td>\n",
       "    </tr>\n",
       "    <tr>\n",
       "      <th>job</th>\n",
       "      <td>baker</td>\n",
       "      <td>NaN</td>\n",
       "      <td>NaN</td>\n",
       "    </tr>\n",
       "  </tbody>\n",
       "</table>\n",
       "</div>"
      ],
      "text/plain": [
       "              1            2           3\n",
       "name  Tom Smith  Peter Clark  John Brown\n",
       "age          22           67         100\n",
       "job       baker          NaN         NaN"
      ]
     },
     "execution_count": 5,
     "metadata": {},
     "output_type": "execute_result"
    }
   ],
   "source": [
    "customers_df"
   ]
  },
  {
   "cell_type": "markdown",
   "id": "735e2904",
   "metadata": {},
   "source": [
    "It left null fields, but for the \"job\" string in the customers dataframe it left 'NaN', however for the boolean in the list dataframe it left 'None'."
   ]
  }
 ],
 "metadata": {
  "kernelspec": {
   "display_name": ".venv",
   "language": "python",
   "name": "python3"
  },
  "language_info": {
   "codemirror_mode": {
    "name": "ipython",
    "version": 3
   },
   "file_extension": ".py",
   "mimetype": "text/x-python",
   "name": "python",
   "nbconvert_exporter": "python",
   "pygments_lexer": "ipython3",
   "version": "3.10.6"
  }
 },
 "nbformat": 4,
 "nbformat_minor": 5
}
